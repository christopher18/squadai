{
 "cells": [
  {
   "cell_type": "code",
   "execution_count": 8,
   "id": "26fc05e2",
   "metadata": {},
   "outputs": [],
   "source": [
    "with open('data.txt', 'r') as f:\n",
    "    text = f.read()"
   ]
  },
  {
   "cell_type": "code",
   "execution_count": 9,
   "id": "b2264202",
   "metadata": {},
   "outputs": [
    {
     "data": {
      "text/plain": [
       "304695"
      ]
     },
     "execution_count": 9,
     "metadata": {},
     "output_type": "execute_result"
    }
   ],
   "source": [
    "len(text)"
   ]
  },
  {
   "cell_type": "code",
   "execution_count": 10,
   "id": "69b3bfe9",
   "metadata": {},
   "outputs": [
    {
     "name": "stdout",
     "output_type": "stream",
     "text": [
      "\n",
      " !\"#$%&'()*+,-./0123456789:;<=>?@ABCDEFGHIJKLMNOPQRSTUVWXYZ[]^_abcdefghijklmnopqrstuvwxyz|~¢°äçéíñИОСТШагекмнортуця‍—‘“”•…⏱☕☺♀♂♾⚠❄❓❤⬆녀녕볶붘안애요이자하핫헹힝️🇸🇺🌫🌱🌲🍑🍵🍼🎉🎮🏽🐑🐒👃👋👍👎👏👶👺👿💡💦💨💩💯💰💻🔒🔥🗑🗺😂😃😅😆😇😉😎😓😠😢😤😥😬😭😮😰😶🙂🙃🙄🙏🚌🚗🚪🚶🤣🤮🤷🥂🥳🥹🥺🥾🧙🧠🧩🪵🫖🫠\n",
      "219\n"
     ]
    }
   ],
   "source": [
    "# here are all the unique characters that occur in this text\n",
    "chars = sorted(list(set(text)))\n",
    "vocab_size = len(chars)\n",
    "print(''.join(chars))\n",
    "print(vocab_size)"
   ]
  },
  {
   "cell_type": "code",
   "execution_count": 11,
   "id": "91884873",
   "metadata": {},
   "outputs": [
    {
     "name": "stdout",
     "output_type": "stream",
     "text": [
      "[71, 72, 72, 1, 83, 71, 68, 81, 68]\n",
      "hii there\n"
     ]
    }
   ],
   "source": [
    "# create a mapping from characters to integers\n",
    "stoi = { ch:i for i,ch in enumerate(chars) }\n",
    "itos = { i:ch for i,ch in enumerate(chars) }\n",
    "encode = lambda s: [stoi[c] for c in s] # encoder: take a string, output a list of integers\n",
    "decode = lambda l: ''.join([itos[i] for i in l]) # decoder: take a list of integers, output a string\n",
    "\n",
    "print(encode(\"hii there\"))\n",
    "print(decode(encode(\"hii there\")))"
   ]
  },
  {
   "cell_type": "code",
   "execution_count": 13,
   "id": "5f622542",
   "metadata": {},
   "outputs": [
    {
     "name": "stdout",
     "output_type": "stream",
     "text": [
      "torch.Size([304695]) torch.int64\n",
      "tensor([ 36,  71,  81,  72,  82,   1,  34,  66,  74,  68,  81,  27,   1,  41,\n",
      "         68,  81,  68,   0,  36,  71,  81,  72,  82,   1,  34,  66,  74,  68,\n",
      "         81,  27,   1,  58,  78,  84,   1,  77,  64,  76,  68,  67,   1,  83,\n",
      "         71,  68,   1,  70,  81,  78,  84,  79,   1,  52,  80,  84,  64,  67,\n",
      "         81,  72,  75,  64,  83,  68,  81,  64,  75,  15,   0,  36,  71,  81,\n",
      "         72,  82,   1,  34,  66,  74,  68,  81,  27,   1,  58,  78,  84,   1,\n",
      "         82,  68,  83,   1,  83,  71,  68,   1,  77,  72,  66,  74,  77,  64,\n",
      "         76,  68,   1,  69,  78,  81,   1,  52,  64,  76,  85,  81,  84,  83,\n",
      "         71,  64,   1,  53,  84,  76,  84,  75,  84,  81,  84,   1,  83,  78,\n",
      "          1,  49,  78,  84,  69,  69,  15,   0,  36,  71,  81,  72,  82,   1,\n",
      "         34,  66,  74,  68,  81,  27,   1,  58,  78,  84,   1,  82,  68,  83,\n",
      "          1,  88,  78,  84,  81,   1,  77,  72,  66,  74,  77,  64,  76,  68,\n",
      "          1,  83,  78,   1,  53,  78,  84,  76,  15,   0,  36,  71,  81,  72,\n",
      "         82,   1,  34,  66,  74,  68,  81,  27,   1,  58,  78,  84,   1,  82,\n",
      "         68,  83,   1,  83,  71,  68,   1,  77,  72,  66,  74,  77,  64,  76,\n",
      "         68,   1,  69,  78,  81,   1,  64,   1,  79,  64,  81,  83,  72,  66,\n",
      "         72,  79,  64,  77,  83,   1,  83,  78,   1,  40,  81,  78,  74,  68,\n",
      "         15,   0,  36,  71,  81,  72,  82,   1,  34,  66,  74,  68,  81,  27,\n",
      "          1,  58,  78,  84,   1,  82,  68,  83,   1,  83,  71,  68,   1,  77,\n",
      "         72,  66,  74,  77,  64,  76,  68,   1,  69,  78,  81,   1,  37,  64,\n",
      "         77,  72,  68,  75,   1,  52,  83,  81,  72,  89,  71,  68,  85,  82,\n",
      "         74,  88,   1,  83,  78,   1,  59,  68,  84,  82,  71,  15,   0,  36,\n",
      "         71,  81,  72,  82,   1,  34,  66,  74,  68,  81,  27,   1,  33,  49,\n",
      "         78,  84,  69,  69,   1,  86,  71,  64,  83,   1,  86,  68,  64,  79,\n",
      "         78,  77,   1,  64,  81,  68,   1,  88,  78,  84,   1,  70,  78,  72,\n",
      "         77,  70,   1,  83,  78,   1,  76,  64,  72,  77,   0,  37,  64,  77,\n",
      "         72,  68,  75,   1,  52,  83,  81,  72,  89,  71,  68,  85,  82,  74,\n",
      "         88,  27,   1,  41,  84,  89,  89,  64,  71,   0,  36,  71,  81,  72,\n",
      "         82,   1,  34,  66,  74,  68,  81,  27,   1,  41,  84,  89,  89,  64,\n",
      "         71,   2,   2,   0,  36,  71,  81,  72,  82,   1,  34,  66,  74,  68,\n",
      "         81,  27,   1,  34,  67,  85,  68,  77,  83,  84,  81,  68,   0,  36,\n",
      "         71,  81,  72,  82,   1,  34,  66,  74,  68,  81,  27,   1,  34,  56,\n",
      "         34,  42,  53,  52,   2,   0,  52,  64,  76,  85,  81,  84,  83,  71,\n",
      "         64,   1,  53,  84,  76,  84,  75,  84,  81,  84,  27,   1,  54,  71,\n",
      "         71,  71,   1,  82,  86,  78,  81,  67,   0,  37,  64,  77,  72,  68,\n",
      "         75,   1,  52,  83,  81,  72,  89,  71,  68,  85,  82,  74,  88,  27,\n",
      "          1,  35,  78,  81,  72,  77,  70,   0,  52,  64,  76,  85,  81,  84,\n",
      "         83,  71,  64,   1,  53,  84,  76,  84,  75,  84,  81,  84,  27,   1,\n",
      "         33,  59,  68,  84,  82,  71,   1,  64,  81,  68,  77,   8,  83,   1,\n",
      "         88,  78,  84,   1,  82,  84,  79,  79,  78,  82,  68,  67,  75,  88,\n",
      "          1,  72,  77,   1,  64,   1,  76,  68,  68,  83,  72,  77,  70,   1,\n",
      "         81,  72,  70,  71,  83,   1,  77,  78,  86,   0,  37,  64,  77,  72,\n",
      "         68,  75,   1,  52,  83,  81,  72,  89,  71,  68,  85,  82,  74,  88,\n",
      "         27,   1,  58,  68,  64,  71,   0,  52,  64,  76,  85,  81,  84,  83,\n",
      "         71,  64,   1,  53,  84,  76,  84,  75,  84,  81,  84,  27,   1,  53,\n",
      "         71,  68,  77,   1,  88,  78,  84,   1,  82,  71,  78,  84,  75,  67,\n",
      "         77,   8,  83,   1,  71,  64,  85,  68,   1,  83,  72,  76,  68,   1,\n",
      "         83,  78,   1,  65,  84,  75,  75,  88,   1,  76,  68,   1,  65,  64,\n",
      "         82,  68,  67,   1,  78,  77,   1,  76,  88,   1,  86,  68,  64,  79,\n",
      "         78,  77,   1,  78,  69,   1,  66,  71,  78,  72,  66,  68,   0,  37,\n",
      "         64,  77,  72,  68,  75,   1,  52,  83,  81,  72,  89,  71,  68,  85,\n",
      "         82,  74,  88,  27,   1,  47,  78,   1,  42,   1,  71,  64,  85,  68,\n",
      "          1,  83,  72,  76,  68,   0,  52,  64,  76,  85,  81,  84,  83,  71,\n",
      "         64,   1,  53,  84,  76,  84,  75,  84,  81,  84,  27,   1,  39,  72,\n",
      "         77,  68,   1,  42,   1,  86,  72,  75,  75,   1,  84,  82,  68,   1,\n",
      "         83,  71,  68,   1,  82,  72,  83,  83,  78,  77,   0,  59,  64,  66,\n",
      "         71,   1,  40,  78,  82,  79,  68,  27,   1,  41,  84,  89,  89,  64,\n",
      "         71,   2,   1,   0,   0,  42,   1,  83,  71,  72,  77,  74,   1,  42,\n",
      "          8,  75,  75,   1,  65,  68,   1,  84,  82,  72,  77,  70,   1,  68,\n",
      "         72,  83,  71,  68,  81,   1,  83,  71,  68,   1,  75,  72,  69,  68,\n",
      "          1,  82,  83,  64,  69,  69,   1,  78,  81,   1,  83,  71,  68,   1,\n",
      "         69,  72,  81,  68,   1,  82,  83,  64,  69,  69,   1,  16,   1,  72,\n",
      "         66,  68,   1,  70,  64,  84,  77,  83,  75,  68,  83,   1,  72,  69,\n",
      "          1,  88,  78,  84,   1,  86,  64,  77,  83,   1,  83,  78,   1,  83,\n",
      "         64,  74,  68,   1,  75,  72,  69,  68,  13,   1,  37,  64,  77,  15,\n",
      "          1,  46,  64,  70,  72,  66,   1,  72,  82,   1,  66,  78,  78,  75,\n",
      "          1, 186,   1, 177, 152, 130, 147,   0,  36,  71,  81,  72,  82,   1,\n",
      "         34,  66,  74,  68,  81,   1,  81,  68,  64,  66,  83,  68,  67,   1,\n",
      "         86,  72,  83,  71,   1, 132,   0,  36,  71,  81,  72,  82,   1,  34,\n",
      "         66,  74,  68,  81,  27,   1,  34,  66,  83,  84,  64,  75,  75,  88,\n",
      "          1,  33,  59,  68,  84,  82,  71,   1,  71,  64,  82,   1,  65,  68,\n",
      "         68,  77,   1,  79,  75,  64])\n"
     ]
    }
   ],
   "source": [
    "# let's now encode the entire text dataset and store it into a torch.Tensor\n",
    "import torch # we use PyTorch: https://pytorch.org\n",
    "data = torch.tensor(encode(text), dtype=torch.long)\n",
    "print(data.shape, data.dtype)\n",
    "print(data[:1000]) # the 1000 characters we looked at earier will to the GPT look like this"
   ]
  },
  {
   "cell_type": "code",
   "execution_count": 14,
   "id": "713ee52c",
   "metadata": {},
   "outputs": [],
   "source": [
    "# Let's now split up the data into train and validation sets\n",
    "n = int(0.9*len(data)) # first 90% will be train, rest val\n",
    "train_data = data[:n]\n",
    "val_data = data[n:]"
   ]
  },
  {
   "cell_type": "code",
   "execution_count": 15,
   "id": "f928e010",
   "metadata": {},
   "outputs": [
    {
     "data": {
      "text/plain": [
       "tensor([36, 71, 81, 72, 82,  1, 34, 66, 74])"
      ]
     },
     "execution_count": 15,
     "metadata": {},
     "output_type": "execute_result"
    }
   ],
   "source": [
    "block_size = 8\n",
    "train_data[:block_size+1]"
   ]
  },
  {
   "cell_type": "code",
   "execution_count": null,
   "id": "ebc3fd08",
   "metadata": {},
   "outputs": [],
   "source": [
    "x = train_data[:block_size]\n",
    "y = train_data[1:block_size+1]\n",
    "for t in range(block_size):\n",
    "    context = x[:t+1]\n",
    "    target = y[t]\n",
    "    print(f\"when input is {context} the target: {target}\")"
   ]
  }
 ],
 "metadata": {
  "kernelspec": {
   "display_name": "Python 3 (ipykernel)",
   "language": "python",
   "name": "python3"
  },
  "language_info": {
   "codemirror_mode": {
    "name": "ipython",
    "version": 3
   },
   "file_extension": ".py",
   "mimetype": "text/x-python",
   "name": "python",
   "nbconvert_exporter": "python",
   "pygments_lexer": "ipython3",
   "version": "3.8.10"
  }
 },
 "nbformat": 4,
 "nbformat_minor": 5
}
