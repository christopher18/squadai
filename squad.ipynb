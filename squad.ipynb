{
 "cells": [
  {
   "cell_type": "code",
   "execution_count": 3,
   "id": "26fc05e2",
   "metadata": {},
   "outputs": [],
   "source": [
    "with open('data.txt', 'r') as f:\n",
    "    text = f.read()"
   ]
  },
  {
   "cell_type": "code",
   "execution_count": null,
   "id": "c84d91dc",
   "metadata": {},
   "outputs": [],
   "source": []
  },
  {
   "cell_type": "code",
   "execution_count": 4,
   "id": "b2264202",
   "metadata": {},
   "outputs": [
    {
     "data": {
      "text/plain": [
       "304695"
      ]
     },
     "execution_count": 4,
     "metadata": {},
     "output_type": "execute_result"
    }
   ],
   "source": [
    "len(text)"
   ]
  },
  {
   "cell_type": "code",
   "execution_count": 5,
   "id": "69b3bfe9",
   "metadata": {},
   "outputs": [
    {
     "name": "stdout",
     "output_type": "stream",
     "text": [
      "\n",
      " !\"#$%&'()*+,-./0123456789:;<=>?@ABCDEFGHIJKLMNOPQRSTUVWXYZ[]^_abcdefghijklmnopqrstuvwxyz|~¢°äçéíñИОСТШагекмнортуця‍—‘“”•…⏱☕☺♀♂♾⚠❄❓❤⬆녀녕볶붘안애요이자하핫헹힝️🇸🇺🌫🌱🌲🍑🍵🍼🎉🎮🏽🐑🐒👃👋👍👎👏👶👺👿💡💦💨💩💯💰💻🔒🔥🗑🗺😂😃😅😆😇😉😎😓😠😢😤😥😬😭😮😰😶🙂🙃🙄🙏🚌🚗🚪🚶🤣🤮🤷🥂🥳🥹🥺🥾🧙🧠🧩🪵🫖🫠\n",
      "219\n"
     ]
    }
   ],
   "source": [
    "# here are all the unique characters that occur in this text\n",
    "chars = sorted(list(set(text)))\n",
    "vocab_size = len(chars)\n",
    "print(''.join(chars))\n",
    "print(vocab_size)"
   ]
  },
  {
   "cell_type": "code",
   "execution_count": 6,
   "id": "91884873",
   "metadata": {},
   "outputs": [
    {
     "name": "stdout",
     "output_type": "stream",
     "text": [
      "[71, 72, 72, 1, 83, 71, 68, 81, 68]\n",
      "hii there\n"
     ]
    }
   ],
   "source": [
    "# create a mapping from characters to integers\n",
    "stoi = { ch:i for i,ch in enumerate(chars) }\n",
    "itos = { i:ch for i,ch in enumerate(chars) }\n",
    "encode = lambda s: [stoi[c] for c in s] # encoder: take a string, output a list of integers\n",
    "decode = lambda l: ''.join([itos[i] for i in l]) # decoder: take a list of integers, output a string\n",
    "\n",
    "print(encode(\"hii there\"))\n",
    "print(decode(encode(\"hii there\")))"
   ]
  },
  {
   "cell_type": "code",
   "execution_count": 7,
   "id": "5f622542",
   "metadata": {},
   "outputs": [
    {
     "name": "stdout",
     "output_type": "stream",
     "text": [
      "torch.Size([304695]) torch.int64\n",
      "tensor([ 36,  71,  81,  72,  82,   1,  34,  66,  74,  68,  81,  27,   1,  41,\n",
      "         68,  81,  68,   0,  36,  71,  81,  72,  82,   1,  34,  66,  74,  68,\n",
      "         81,  27,   1,  58,  78,  84,   1,  77,  64,  76,  68,  67,   1,  83,\n",
      "         71,  68,   1,  70,  81,  78,  84,  79,   1,  52,  80,  84,  64,  67,\n",
      "         81,  72,  75,  64,  83,  68,  81,  64,  75,  15,   0,  36,  71,  81,\n",
      "         72,  82,   1,  34,  66,  74,  68,  81,  27,   1,  58,  78,  84,   1,\n",
      "         82,  68,  83,   1,  83,  71,  68,   1,  77,  72,  66,  74,  77,  64,\n",
      "         76,  68,   1,  69,  78,  81,   1,  52,  64,  76,  85,  81,  84,  83,\n",
      "         71,  64,   1,  53,  84,  76,  84,  75,  84,  81,  84,   1,  83,  78,\n",
      "          1,  49,  78,  84,  69,  69,  15,   0,  36,  71,  81,  72,  82,   1,\n",
      "         34,  66,  74,  68,  81,  27,   1,  58,  78,  84,   1,  82,  68,  83,\n",
      "          1,  88,  78,  84,  81,   1,  77,  72,  66,  74,  77,  64,  76,  68,\n",
      "          1,  83,  78,   1,  53,  78,  84,  76,  15,   0,  36,  71,  81,  72,\n",
      "         82,   1,  34,  66,  74,  68,  81,  27,   1,  58,  78,  84,   1,  82,\n",
      "         68,  83,   1,  83,  71,  68,   1,  77,  72,  66,  74,  77,  64,  76,\n",
      "         68,   1,  69,  78,  81,   1,  64,   1,  79,  64,  81,  83,  72,  66,\n",
      "         72,  79,  64,  77,  83,   1,  83,  78,   1,  40,  81,  78,  74,  68,\n",
      "         15,   0,  36,  71,  81,  72,  82,   1,  34,  66,  74,  68,  81,  27,\n",
      "          1,  58,  78,  84,   1,  82,  68,  83,   1,  83,  71,  68,   1,  77,\n",
      "         72,  66,  74,  77,  64,  76,  68,   1,  69,  78,  81,   1,  37,  64,\n",
      "         77,  72,  68,  75,   1,  52,  83,  81,  72,  89,  71,  68,  85,  82,\n",
      "         74,  88,   1,  83,  78,   1,  59,  68,  84,  82,  71,  15,   0,  36,\n",
      "         71,  81,  72,  82,   1,  34,  66,  74,  68,  81,  27,   1,  33,  49,\n",
      "         78,  84,  69,  69,   1,  86,  71,  64,  83,   1,  86,  68,  64,  79,\n",
      "         78,  77,   1,  64,  81,  68,   1,  88,  78,  84,   1,  70,  78,  72,\n",
      "         77,  70,   1,  83,  78,   1,  76,  64,  72,  77,   0,  37,  64,  77,\n",
      "         72,  68,  75,   1,  52,  83,  81,  72,  89,  71,  68,  85,  82,  74,\n",
      "         88,  27,   1,  41,  84,  89,  89,  64,  71,   0,  36,  71,  81,  72,\n",
      "         82,   1,  34,  66,  74,  68,  81,  27,   1,  41,  84,  89,  89,  64,\n",
      "         71,   2,   2,   0,  36,  71,  81,  72,  82,   1,  34,  66,  74,  68,\n",
      "         81,  27,   1,  34,  67,  85,  68,  77,  83,  84,  81,  68,   0,  36,\n",
      "         71,  81,  72,  82,   1,  34,  66,  74,  68,  81,  27,   1,  34,  56,\n",
      "         34,  42,  53,  52,   2,   0,  52,  64,  76,  85,  81,  84,  83,  71,\n",
      "         64,   1,  53,  84,  76,  84,  75,  84,  81,  84,  27,   1,  54,  71,\n",
      "         71,  71,   1,  82,  86,  78,  81,  67,   0,  37,  64,  77,  72,  68,\n",
      "         75,   1,  52,  83,  81,  72,  89,  71,  68,  85,  82,  74,  88,  27,\n",
      "          1,  35,  78,  81,  72,  77,  70,   0,  52,  64,  76,  85,  81,  84,\n",
      "         83,  71,  64,   1,  53,  84,  76,  84,  75,  84,  81,  84,  27,   1,\n",
      "         33,  59,  68,  84,  82,  71,   1,  64,  81,  68,  77,   8,  83,   1,\n",
      "         88,  78,  84,   1,  82,  84,  79,  79,  78,  82,  68,  67,  75,  88,\n",
      "          1,  72,  77,   1,  64,   1,  76,  68,  68,  83,  72,  77,  70,   1,\n",
      "         81,  72,  70,  71,  83,   1,  77,  78,  86,   0,  37,  64,  77,  72,\n",
      "         68,  75,   1,  52,  83,  81,  72,  89,  71,  68,  85,  82,  74,  88,\n",
      "         27,   1,  58,  68,  64,  71,   0,  52,  64,  76,  85,  81,  84,  83,\n",
      "         71,  64,   1,  53,  84,  76,  84,  75,  84,  81,  84,  27,   1,  53,\n",
      "         71,  68,  77,   1,  88,  78,  84,   1,  82,  71,  78,  84,  75,  67,\n",
      "         77,   8,  83,   1,  71,  64,  85,  68,   1,  83,  72,  76,  68,   1,\n",
      "         83,  78,   1,  65,  84,  75,  75,  88,   1,  76,  68,   1,  65,  64,\n",
      "         82,  68,  67,   1,  78,  77,   1,  76,  88,   1,  86,  68,  64,  79,\n",
      "         78,  77,   1,  78,  69,   1,  66,  71,  78,  72,  66,  68,   0,  37,\n",
      "         64,  77,  72,  68,  75,   1,  52,  83,  81,  72,  89,  71,  68,  85,\n",
      "         82,  74,  88,  27,   1,  47,  78,   1,  42,   1,  71,  64,  85,  68,\n",
      "          1,  83,  72,  76,  68,   0,  52,  64,  76,  85,  81,  84,  83,  71,\n",
      "         64,   1,  53,  84,  76,  84,  75,  84,  81,  84,  27,   1,  39,  72,\n",
      "         77,  68,   1,  42,   1,  86,  72,  75,  75,   1,  84,  82,  68,   1,\n",
      "         83,  71,  68,   1,  82,  72,  83,  83,  78,  77,   0,  59,  64,  66,\n",
      "         71,   1,  40,  78,  82,  79,  68,  27,   1,  41,  84,  89,  89,  64,\n",
      "         71,   2,   1,   0,   0,  42,   1,  83,  71,  72,  77,  74,   1,  42,\n",
      "          8,  75,  75,   1,  65,  68,   1,  84,  82,  72,  77,  70,   1,  68,\n",
      "         72,  83,  71,  68,  81,   1,  83,  71,  68,   1,  75,  72,  69,  68,\n",
      "          1,  82,  83,  64,  69,  69,   1,  78,  81,   1,  83,  71,  68,   1,\n",
      "         69,  72,  81,  68,   1,  82,  83,  64,  69,  69,   1,  16,   1,  72,\n",
      "         66,  68,   1,  70,  64,  84,  77,  83,  75,  68,  83,   1,  72,  69,\n",
      "          1,  88,  78,  84,   1,  86,  64,  77,  83,   1,  83,  78,   1,  83,\n",
      "         64,  74,  68,   1,  75,  72,  69,  68,  13,   1,  37,  64,  77,  15,\n",
      "          1,  46,  64,  70,  72,  66,   1,  72,  82,   1,  66,  78,  78,  75,\n",
      "          1, 186,   1, 177, 152, 130, 147,   0,  36,  71,  81,  72,  82,   1,\n",
      "         34,  66,  74,  68,  81,   1,  81,  68,  64,  66,  83,  68,  67,   1,\n",
      "         86,  72,  83,  71,   1, 132,   0,  36,  71,  81,  72,  82,   1,  34,\n",
      "         66,  74,  68,  81,  27,   1,  34,  66,  83,  84,  64,  75,  75,  88,\n",
      "          1,  33,  59,  68,  84,  82,  71,   1,  71,  64,  82,   1,  65,  68,\n",
      "         68,  77,   1,  79,  75,  64])\n"
     ]
    }
   ],
   "source": [
    "# let's now encode the entire text dataset and store it into a torch.Tensor\n",
    "import torch # we use PyTorch: https://pytorch.org\n",
    "data = torch.tensor(encode(text), dtype=torch.long)\n",
    "print(data.shape, data.dtype)\n",
    "print(data[:1000]) # the 1000 characters we looked at earier will to the GPT look like this"
   ]
  },
  {
   "cell_type": "code",
   "execution_count": 8,
   "id": "713ee52c",
   "metadata": {},
   "outputs": [],
   "source": [
    "# Let's now split up the data into train and validation sets\n",
    "n = int(0.9*len(data)) # first 90% will be train, rest val\n",
    "train_data = data[:n]\n",
    "val_data = data[n:]"
   ]
  },
  {
   "cell_type": "code",
   "execution_count": 9,
   "id": "f928e010",
   "metadata": {},
   "outputs": [
    {
     "data": {
      "text/plain": [
       "tensor([36, 71, 81, 72, 82,  1, 34, 66, 74])"
      ]
     },
     "execution_count": 9,
     "metadata": {},
     "output_type": "execute_result"
    }
   ],
   "source": [
    "block_size = 8\n",
    "train_data[:block_size+1]"
   ]
  },
  {
   "cell_type": "code",
   "execution_count": 10,
   "id": "ebc3fd08",
   "metadata": {},
   "outputs": [
    {
     "name": "stdout",
     "output_type": "stream",
     "text": [
      "when input is tensor([36]) the target: 71\n",
      "when input is tensor([36, 71]) the target: 81\n",
      "when input is tensor([36, 71, 81]) the target: 72\n",
      "when input is tensor([36, 71, 81, 72]) the target: 82\n",
      "when input is tensor([36, 71, 81, 72, 82]) the target: 1\n",
      "when input is tensor([36, 71, 81, 72, 82,  1]) the target: 34\n",
      "when input is tensor([36, 71, 81, 72, 82,  1, 34]) the target: 66\n",
      "when input is tensor([36, 71, 81, 72, 82,  1, 34, 66]) the target: 74\n"
     ]
    }
   ],
   "source": [
    "x = train_data[:block_size]\n",
    "y = train_data[1:block_size+1]\n",
    "for t in range(block_size):\n",
    "    context = x[:t+1]\n",
    "    target = y[t]\n",
    "    print(f\"when input is {context} the target: {target}\")"
   ]
  },
  {
   "cell_type": "code",
   "execution_count": 11,
   "id": "3d071568",
   "metadata": {},
   "outputs": [
    {
     "name": "stdout",
     "output_type": "stream",
     "text": [
      "inputs:\n",
      "torch.Size([4, 8])\n",
      "tensor([[78, 81,  1, 83, 71, 68,  1, 69],\n",
      "        [82,  1, 34, 66, 74, 68, 81, 27],\n",
      "        [ 1, 56, 68,  1, 76, 84, 82, 83],\n",
      "        [64, 85, 68,  1, 65, 68, 68, 77]])\n",
      "targets:\n",
      "torch.Size([4, 8])\n",
      "tensor([[81,  1, 83, 71, 68,  1, 69, 72],\n",
      "        [ 1, 34, 66, 74, 68, 81, 27,  1],\n",
      "        [56, 68,  1, 76, 84, 82, 83,  8],\n",
      "        [85, 68,  1, 65, 68, 68, 77,  1]])\n",
      "----\n",
      "when input is [78] the target: 81\n",
      "when input is [78, 81] the target: 1\n",
      "when input is [78, 81, 1] the target: 83\n",
      "when input is [78, 81, 1, 83] the target: 71\n",
      "when input is [78, 81, 1, 83, 71] the target: 68\n",
      "when input is [78, 81, 1, 83, 71, 68] the target: 1\n",
      "when input is [78, 81, 1, 83, 71, 68, 1] the target: 69\n",
      "when input is [78, 81, 1, 83, 71, 68, 1, 69] the target: 72\n",
      "when input is [82] the target: 1\n",
      "when input is [82, 1] the target: 34\n",
      "when input is [82, 1, 34] the target: 66\n",
      "when input is [82, 1, 34, 66] the target: 74\n",
      "when input is [82, 1, 34, 66, 74] the target: 68\n",
      "when input is [82, 1, 34, 66, 74, 68] the target: 81\n",
      "when input is [82, 1, 34, 66, 74, 68, 81] the target: 27\n",
      "when input is [82, 1, 34, 66, 74, 68, 81, 27] the target: 1\n",
      "when input is [1] the target: 56\n",
      "when input is [1, 56] the target: 68\n",
      "when input is [1, 56, 68] the target: 1\n",
      "when input is [1, 56, 68, 1] the target: 76\n",
      "when input is [1, 56, 68, 1, 76] the target: 84\n",
      "when input is [1, 56, 68, 1, 76, 84] the target: 82\n",
      "when input is [1, 56, 68, 1, 76, 84, 82] the target: 83\n",
      "when input is [1, 56, 68, 1, 76, 84, 82, 83] the target: 8\n",
      "when input is [64] the target: 85\n",
      "when input is [64, 85] the target: 68\n",
      "when input is [64, 85, 68] the target: 1\n",
      "when input is [64, 85, 68, 1] the target: 65\n",
      "when input is [64, 85, 68, 1, 65] the target: 68\n",
      "when input is [64, 85, 68, 1, 65, 68] the target: 68\n",
      "when input is [64, 85, 68, 1, 65, 68, 68] the target: 77\n",
      "when input is [64, 85, 68, 1, 65, 68, 68, 77] the target: 1\n"
     ]
    }
   ],
   "source": [
    "torch.manual_seed(1337)\n",
    "batch_size = 4 # how many independent sequences will we process in parallel?\n",
    "block_size = 8 # what is the maximum context length for predictions?\n",
    "\n",
    "def get_batch(split):\n",
    "    # generate a small batch of data of inputs x and targets y\n",
    "    data = train_data if split == 'train' else val_data\n",
    "    ix = torch.randint(len(data) - block_size, (batch_size,))\n",
    "    x = torch.stack([data[i:i+block_size] for i in ix])\n",
    "    y = torch.stack([data[i+1:i+block_size+1] for i in ix])\n",
    "    return x, y\n",
    "\n",
    "xb, yb = get_batch('train')\n",
    "print('inputs:')\n",
    "print(xb.shape)\n",
    "print(xb)\n",
    "print('targets:')\n",
    "print(yb.shape)\n",
    "print(yb)\n",
    "\n",
    "print('----')\n",
    "\n",
    "for b in range(batch_size): # batch dimension\n",
    "    for t in range(block_size): # time dimension\n",
    "        context = xb[b, :t+1]\n",
    "        target = yb[b,t]\n",
    "        print(f\"when input is {context.tolist()} the target: {target}\")"
   ]
  },
  {
   "cell_type": "code",
   "execution_count": 12,
   "id": "02fd373b",
   "metadata": {
    "scrolled": true
   },
   "outputs": [
    {
     "name": "stdout",
     "output_type": "stream",
     "text": [
      "tensor([[78, 81,  1, 83, 71, 68,  1, 69],\n",
      "        [82,  1, 34, 66, 74, 68, 81, 27],\n",
      "        [ 1, 56, 68,  1, 76, 84, 82, 83],\n",
      "        [64, 85, 68,  1, 65, 68, 68, 77]])\n",
      "tensor([[81,  1, 83, 71, 68,  1, 69, 72],\n",
      "        [ 1, 34, 66, 74, 68, 81, 27,  1],\n",
      "        [56, 68,  1, 76, 84, 82, 83,  8],\n",
      "        [85, 68,  1, 65, 68, 68, 77,  1]])\n"
     ]
    },
    {
     "data": {
      "text/plain": [
       "(None, None)"
      ]
     },
     "execution_count": 12,
     "metadata": {},
     "output_type": "execute_result"
    }
   ],
   "source": [
    "print(xb), print(yb) # our input to the transformer"
   ]
  },
  {
   "cell_type": "code",
   "execution_count": 13,
   "id": "e0d33e21",
   "metadata": {},
   "outputs": [
    {
     "data": {
      "text/plain": [
       "tensor([171255, 134768, 207377, 265624])"
      ]
     },
     "execution_count": 13,
     "metadata": {},
     "output_type": "execute_result"
    }
   ],
   "source": [
    "torch.randint(len(data) - block_size, (batch_size,))"
   ]
  },
  {
   "cell_type": "code",
   "execution_count": 14,
   "id": "f4fb1336",
   "metadata": {},
   "outputs": [
    {
     "name": "stdout",
     "output_type": "stream",
     "text": [
      "torch.Size([32, 219])\n",
      "tensor([[-0.5245, -0.4027, -0.0303,  ..., -0.9174,  0.9790,  0.6354],\n",
      "        [ 0.7274,  0.7782, -0.6340,  ...,  0.3387,  0.3893,  0.0223],\n",
      "        [ 1.1733,  0.2839, -0.2384,  ...,  0.0989, -0.8305, -0.0563],\n",
      "        ...,\n",
      "        [-0.7373, -0.2838, -0.4931,  ..., -0.1127,  0.0679,  0.0794],\n",
      "        [-0.7373, -0.2838, -0.4931,  ..., -0.1127,  0.0679,  0.0794],\n",
      "        [ 0.6262, -0.7645,  0.5870,  ...,  0.1103,  0.1233,  0.4153]],\n",
      "       grad_fn=<ViewBackward0>)\n",
      "tensor(5.4546, grad_fn=<NllLossBackward0>)\n",
      "\n",
      "🤮j4'*l👋🎮?🔥🚌4😢😆🌫😎A⚠이😶\n"
     ]
    }
   ],
   "source": [
    "import torch\n",
    "import torch.nn as nn\n",
    "from torch.nn import functional as F\n",
    "torch.manual_seed(1337)\n",
    "\n",
    "class BigramLanguageModel(nn.Module):\n",
    "\n",
    "    def __init__(self, vocab_size):\n",
    "        super().__init__()\n",
    "        # each token directly reads off the logits for the next token from a lookup table\n",
    "        self.token_embedding_table = nn.Embedding(vocab_size, vocab_size)\n",
    "        self.lin = nn.Linear(vocab_size, vocab_size)\n",
    "        \n",
    "\n",
    "    def forward(self, idx, targets=None):\n",
    "\n",
    "        # idx and targets are both (B,T) tensor of integers\n",
    "        tet = self.token_embedding_table(idx) # (B,T,C)\n",
    "        logits = self.lin(tet)\n",
    "        \n",
    "        if targets is None:\n",
    "            loss = None\n",
    "        else:\n",
    "            B, T, C = logits.shape\n",
    "            logits = logits.view(B*T, C)\n",
    "            targets = targets.view(B*T)\n",
    "            loss = F.cross_entropy(logits, targets)\n",
    "\n",
    "        return logits, loss\n",
    "    \n",
    "    def generate(self, idx, max_new_tokens):\n",
    "        # idx is (B, T) array of indices in the current context\n",
    "        for _ in range(max_new_tokens):\n",
    "            # get the predictions\n",
    "            logits, loss = self(idx)\n",
    "            # focus only on the last time step\n",
    "            logits = logits[:, -1, :] # becomes (B, C)\n",
    "            # apply softmax to get probabilities\n",
    "            probs = F.softmax(logits, dim=-1) # (B, C)\n",
    "            # sample from the distribution\n",
    "            idx_next = torch.multinomial(probs, num_samples=1) # (B, 1)\n",
    "            # append sampled index to the running sequence\n",
    "            idx = torch.cat((idx, idx_next), dim=1) # (B, T+1)\n",
    "        return idx\n",
    "\n",
    "m = BigramLanguageModel(vocab_size)\n",
    "logits, loss = m(xb, yb)\n",
    "print(logits.shape)\n",
    "print(logits)\n",
    "print(loss)\n",
    "\n",
    "print(decode(m.generate(idx = torch.zeros((1, 1), dtype=torch.long), max_new_tokens=20)[0].tolist()))\n"
   ]
  },
  {
   "cell_type": "code",
   "execution_count": 15,
   "id": "50476a54",
   "metadata": {},
   "outputs": [
    {
     "data": {
      "text/plain": [
       "219"
      ]
     },
     "execution_count": 15,
     "metadata": {},
     "output_type": "execute_result"
    }
   ],
   "source": [
    "vocab_size"
   ]
  },
  {
   "cell_type": "code",
   "execution_count": 16,
   "id": "fa8fa1dc",
   "metadata": {},
   "outputs": [],
   "source": [
    "# create a PyTorch optimizer\n",
    "optimizer = torch.optim.AdamW(m.parameters(), lr=1e-2)"
   ]
  },
  {
   "cell_type": "code",
   "execution_count": 20,
   "id": "41b4a1a3",
   "metadata": {},
   "outputs": [
    {
     "name": "stdout",
     "output_type": "stream",
     "text": [
      "2.37160325050354\n"
     ]
    }
   ],
   "source": [
    "batch_size = 32\n",
    "block_size=7\n",
    "for steps in range(3000): # increase number of steps for good results... \n",
    "    \n",
    "    # sample a batch of data\n",
    "    xb, yb = get_batch('train')\n",
    "\n",
    "    # evaluate the loss\n",
    "    logits, loss = m(xb, yb)\n",
    "    optimizer.zero_grad(set_to_none=True)\n",
    "    loss.backward()\n",
    "    optimizer.step()\n",
    "\n",
    "print(loss.item())"
   ]
  },
  {
   "cell_type": "code",
   "execution_count": 26,
   "id": "b7e862ed",
   "metadata": {},
   "outputs": [
    {
     "name": "stdout",
     "output_type": "stream",
     "text": [
      "\n",
      "Dapluth man Strinee phacosto. r ledevrtorutrumvtho\n",
      "Zamusthat flyiere s\n",
      "Strizhrug'mvrkedespizhenie I'\n"
     ]
    }
   ],
   "source": [
    "print(decode(m.generate(idx = torch.zeros((1, 1), dtype=torch.long), max_new_tokens=100)[0].tolist()))"
   ]
  },
  {
   "cell_type": "code",
   "execution_count": 19,
   "id": "0ed22539",
   "metadata": {},
   "outputs": [
    {
     "name": "stdout",
     "output_type": "stream",
     "text": [
      "\n",
      "Cha sthit'sevried Sand/osende?\n",
      "Strievelife The witinvravs wwevrid a act PSated thache: t 🔒\n",
      "Sar: my w\n"
     ]
    }
   ],
   "source": [
    "print(decode(m.generate(idx = torch.zeros((1, 1), dtype=torch.long), max_new_tokens=100)[0].tolist()))"
   ]
  },
  {
   "cell_type": "code",
   "execution_count": 27,
   "id": "1c386962",
   "metadata": {},
   "outputs": [
    {
     "data": {
      "text/plain": [
       "True"
      ]
     },
     "execution_count": 27,
     "metadata": {},
     "output_type": "execute_result"
    }
   ],
   "source": [
    "torch.cuda.is_available()"
   ]
  },
  {
   "cell_type": "code",
   "execution_count": null,
   "id": "4785876b",
   "metadata": {},
   "outputs": [],
   "source": [
    "print(torch.version)"
   ]
  },
  {
   "cell_type": "code",
   "execution_count": 28,
   "id": "bfdd40f6",
   "metadata": {},
   "outputs": [
    {
     "data": {
      "text/plain": [
       "32"
      ]
     },
     "execution_count": 28,
     "metadata": {},
     "output_type": "execute_result"
    }
   ],
   "source": [
    "batch_size"
   ]
  },
  {
   "cell_type": "code",
   "execution_count": 29,
   "id": "1e92e36a",
   "metadata": {},
   "outputs": [
    {
     "ename": "AttributeError",
     "evalue": "Can't get attribute 'GPTLanguageModel' on <module '__main__'>",
     "output_type": "error",
     "traceback": [
      "\u001b[0;31m---------------------------------------------------------------------------\u001b[0m",
      "\u001b[0;31mAttributeError\u001b[0m                            Traceback (most recent call last)",
      "Cell \u001b[0;32mIn[29], line 1\u001b[0m\n\u001b[0;32m----> 1\u001b[0m testmodel \u001b[38;5;241m=\u001b[39m \u001b[43mtorch\u001b[49m\u001b[38;5;241;43m.\u001b[39;49m\u001b[43mload\u001b[49m\u001b[43m(\u001b[49m\u001b[38;5;124;43m'\u001b[39;49m\u001b[38;5;124;43mgpt_model.pt\u001b[39;49m\u001b[38;5;124;43m'\u001b[39;49m\u001b[43m)\u001b[49m\n",
      "File \u001b[0;32m~/.local/lib/python3.8/site-packages/torch/serialization.py:809\u001b[0m, in \u001b[0;36mload\u001b[0;34m(f, map_location, pickle_module, weights_only, **pickle_load_args)\u001b[0m\n\u001b[1;32m    807\u001b[0m             \u001b[38;5;28;01mexcept\u001b[39;00m \u001b[38;5;167;01mRuntimeError\u001b[39;00m \u001b[38;5;28;01mas\u001b[39;00m e:\n\u001b[1;32m    808\u001b[0m                 \u001b[38;5;28;01mraise\u001b[39;00m pickle\u001b[38;5;241m.\u001b[39mUnpicklingError(UNSAFE_MESSAGE \u001b[38;5;241m+\u001b[39m \u001b[38;5;28mstr\u001b[39m(e)) \u001b[38;5;28;01mfrom\u001b[39;00m \u001b[38;5;28;01mNone\u001b[39;00m\n\u001b[0;32m--> 809\u001b[0m         \u001b[38;5;28;01mreturn\u001b[39;00m \u001b[43m_load\u001b[49m\u001b[43m(\u001b[49m\u001b[43mopened_zipfile\u001b[49m\u001b[43m,\u001b[49m\u001b[43m \u001b[49m\u001b[43mmap_location\u001b[49m\u001b[43m,\u001b[49m\u001b[43m \u001b[49m\u001b[43mpickle_module\u001b[49m\u001b[43m,\u001b[49m\u001b[43m \u001b[49m\u001b[38;5;241;43m*\u001b[39;49m\u001b[38;5;241;43m*\u001b[39;49m\u001b[43mpickle_load_args\u001b[49m\u001b[43m)\u001b[49m\n\u001b[1;32m    810\u001b[0m \u001b[38;5;28;01mif\u001b[39;00m weights_only:\n\u001b[1;32m    811\u001b[0m     \u001b[38;5;28;01mtry\u001b[39;00m:\n",
      "File \u001b[0;32m~/.local/lib/python3.8/site-packages/torch/serialization.py:1172\u001b[0m, in \u001b[0;36m_load\u001b[0;34m(zip_file, map_location, pickle_module, pickle_file, **pickle_load_args)\u001b[0m\n\u001b[1;32m   1170\u001b[0m unpickler \u001b[38;5;241m=\u001b[39m UnpicklerWrapper(data_file, \u001b[38;5;241m*\u001b[39m\u001b[38;5;241m*\u001b[39mpickle_load_args)\n\u001b[1;32m   1171\u001b[0m unpickler\u001b[38;5;241m.\u001b[39mpersistent_load \u001b[38;5;241m=\u001b[39m persistent_load\n\u001b[0;32m-> 1172\u001b[0m result \u001b[38;5;241m=\u001b[39m \u001b[43munpickler\u001b[49m\u001b[38;5;241;43m.\u001b[39;49m\u001b[43mload\u001b[49m\u001b[43m(\u001b[49m\u001b[43m)\u001b[49m\n\u001b[1;32m   1174\u001b[0m torch\u001b[38;5;241m.\u001b[39m_utils\u001b[38;5;241m.\u001b[39m_validate_loaded_sparse_tensors()\n\u001b[1;32m   1176\u001b[0m \u001b[38;5;28;01mreturn\u001b[39;00m result\n",
      "File \u001b[0;32m~/.local/lib/python3.8/site-packages/torch/serialization.py:1165\u001b[0m, in \u001b[0;36m_load.<locals>.UnpicklerWrapper.find_class\u001b[0;34m(self, mod_name, name)\u001b[0m\n\u001b[1;32m   1163\u001b[0m         \u001b[38;5;28;01mpass\u001b[39;00m\n\u001b[1;32m   1164\u001b[0m mod_name \u001b[38;5;241m=\u001b[39m load_module_mapping\u001b[38;5;241m.\u001b[39mget(mod_name, mod_name)\n\u001b[0;32m-> 1165\u001b[0m \u001b[38;5;28;01mreturn\u001b[39;00m \u001b[38;5;28;43msuper\u001b[39;49m\u001b[43m(\u001b[49m\u001b[43m)\u001b[49m\u001b[38;5;241;43m.\u001b[39;49m\u001b[43mfind_class\u001b[49m\u001b[43m(\u001b[49m\u001b[43mmod_name\u001b[49m\u001b[43m,\u001b[49m\u001b[43m \u001b[49m\u001b[43mname\u001b[49m\u001b[43m)\u001b[49m\n",
      "\u001b[0;31mAttributeError\u001b[0m: Can't get attribute 'GPTLanguageModel' on <module '__main__'>"
     ]
    }
   ],
   "source": [
    "testmodel = torch.load('gpt_model.pt')"
   ]
  },
  {
   "cell_type": "code",
   "execution_count": null,
   "id": "c1f0090f",
   "metadata": {},
   "outputs": [],
   "source": []
  }
 ],
 "metadata": {
  "kernelspec": {
   "display_name": "Python 3 (ipykernel)",
   "language": "python",
   "name": "python3"
  },
  "language_info": {
   "codemirror_mode": {
    "name": "ipython",
    "version": 3
   },
   "file_extension": ".py",
   "mimetype": "text/x-python",
   "name": "python",
   "nbconvert_exporter": "python",
   "pygments_lexer": "ipython3",
   "version": "3.8.10"
  }
 },
 "nbformat": 4,
 "nbformat_minor": 5
}
